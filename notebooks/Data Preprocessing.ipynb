{
 "cells": [
  {
   "cell_type": "markdown",
   "id": "54a8bb70",
   "metadata": {},
   "source": [
    "# Data preprocessing \n",
    "----\n",
    "Downloading dataset enwik8 from https://mattmahoney.net/dc/textdata.html \\\n",
    "Processing the data to convert it into a pretokenized binary file."
   ]
  },
  {
   "cell_type": "code",
   "execution_count": 1,
   "id": "3c615a6c",
   "metadata": {},
   "outputs": [],
   "source": [
    "%load_ext autoreload\n",
    "%autoreload 2"
   ]
  },
  {
   "cell_type": "code",
   "execution_count": 2,
   "id": "de5ed04a",
   "metadata": {},
   "outputs": [],
   "source": [
    "DATA_CACHE_DIR = \"/home/rod/storage/enwik8\""
   ]
  },
  {
   "cell_type": "code",
   "execution_count": 3,
   "id": "33f4226f",
   "metadata": {},
   "outputs": [],
   "source": [
    "import os\n",
    "import glob\n",
    "import numpy as np\n",
    "import pathlib\n",
    "import pickle"
   ]
  },
  {
   "cell_type": "code",
   "execution_count": 4,
   "id": "bb86d0be",
   "metadata": {},
   "outputs": [],
   "source": [
    "# create a list of char for the tokenizer\n",
    "dp = pathlib.Path(\"/home/rod/storage/enwik8/enwik8\")\n",
    "with open(dp, \"r\") as f:\n",
    "    characters = \"\".join(list(set(f.read())))\n",
    "\n",
    "with open(pathlib.Path(dp.parent/\"char.pkl\"), 'wb') as f:\n",
    "    pickle.dump(characters, f)"
   ]
  },
  {
   "cell_type": "code",
   "execution_count": 5,
   "id": "cb2d0949",
   "metadata": {},
   "outputs": [
    {
     "data": {
      "text/plain": [
       "True"
      ]
     },
     "execution_count": 5,
     "metadata": {},
     "output_type": "execute_result"
    }
   ],
   "source": [
    "# sanity check\n",
    "with open(pathlib.Path(dp.parent/\"char.pkl\"), 'rb') as f:\n",
    "    char = pickle.load(f)\n",
    "characters == char"
   ]
  },
  {
   "cell_type": "code",
   "execution_count": null,
   "id": "0b5b47a4",
   "metadata": {},
   "outputs": [],
   "source": [
    "char"
   ]
  },
  {
   "cell_type": "code",
   "execution_count": 7,
   "id": "ac8ec7fc",
   "metadata": {},
   "outputs": [
    {
     "data": {
      "text/plain": [
       "6064"
      ]
     },
     "execution_count": 7,
     "metadata": {},
     "output_type": "execute_result"
    }
   ],
   "source": [
    "len(char)"
   ]
  },
  {
   "cell_type": "markdown",
   "id": "16ab68b2",
   "metadata": {},
   "source": [
    "## Tokenizing the data"
   ]
  },
  {
   "cell_type": "code",
   "execution_count": 11,
   "id": "0bc69174",
   "metadata": {},
   "outputs": [],
   "source": [
    "import sys\n",
    "sys.path.append(\"/home/rod/Projects/llama\")"
   ]
  },
  {
   "cell_type": "code",
   "execution_count": 12,
   "id": "f99e3c1a",
   "metadata": {},
   "outputs": [],
   "source": [
    "from tokenizer import SimpleTokenizer"
   ]
  },
  {
   "cell_type": "code",
   "execution_count": 13,
   "id": "cdcbb031",
   "metadata": {},
   "outputs": [],
   "source": [
    "with open(\"/storage/enwik8/enwik8\", \"r\") as f:\n",
    "        data = f.read()"
   ]
  },
  {
   "cell_type": "code",
   "execution_count": 14,
   "id": "29077f29",
   "metadata": {},
   "outputs": [
    {
     "name": "stdout",
     "output_type": "stream",
     "text": [
      "<mediawiki xmlns=\"http://www.mediawiki.org/xml/export-0.3/\" xmlns:xsi=\"http://www.w3.org/2001/XMLSch 99621832\n"
     ]
    }
   ],
   "source": [
    "print(data[:100], len(data))"
   ]
  },
  {
   "cell_type": "code",
   "execution_count": 16,
   "id": "7314ecda",
   "metadata": {},
   "outputs": [
    {
     "name": "stdout",
     "output_type": "stream",
     "text": [
      "t==\n",
      "{{seealso|Anarcho-syndicalism}}\n",
      "\n",
      "[[Image:Flag of Anarcho syndicalism.svg|thumb|175px|The red-and-black flag, coming from the experience of anarchists in the labour movement, is particularly associated with anarcho-syndicalism.]]\n",
      "\n",
      "[[Anarcho-syndicalism]] was an early 20th century working class movement seeking to overthrow capitalism and the state to institute a worker controlled society. The movement pursued [[industrial action]]s, such as [[general strike]], as a primary strategy. Many anarcho-syndicalists believed in [[anarchist communism]], though not all communists believed in syndicalism.\n",
      "\n",
      "After the [[Paris Commune|1871 repression]] French anarchism reemerged, influencing the ''Bourses de Travails'' of autonomous workers groups and trade unions. From this movement the [[Confédération Générale du Travail]] (General Confederation of Work, CGT) was formed in 1895 as the first major anarcho-syndicalist movement. [[Emile Pataud]] and [[Emile Pouget]]'s writing for the CGT saw [[libertarian communism]] developing from a [[general strike]].  After 1914 the CGT moved away from anarcho-syndicalism due to the appeal of [[Bolshevism]].  French-style syndicalism was a significant movement in Europe prior to 1921, and remained a significant movement in Spain until the mid 1940s.\n",
      "\n",
      "The [[Industrial Workers of the World]] (IWW), founded in 1905 in the US, espoused [[industrial unionism|unionism]] and sought a [[general strike]] to usher in a stateless society. In 1923 100,000 members existed, with the support of up to 300,000. Though not explicitly anarchist, they organized by rank and file democracy, embodying a spirit of resistance that has inspired many Anglophone syndicalists.\n",
      "\n",
      "[[Image:CNT_tu_votar_y_ellos_deciden.jpg|thumb|175px|CNT propaganda from April 2004.  Reads: Don't let the politicians rule our lives/ You vote and they decide/ Don't allow it/ Unity, Action, Self-management.]]\n",
      "\n",
      "Spanish anarchist trade union federations were formed in the 1870's, 1900 and 1910. The most successful was the [[Confederación Nacional del Trabajo]] (National Confederation of Labour: CNT), founded in 1910. Prior to the 1940s the CNT was the major force in Spanish working class politics.  With a membership of 1.58 million in 1934, the CNT played a major role in the [[Spanish Civil War]]. ''See also:'' [[Anarchism in Spain]].\n",
      "\n",
      "Syndicalists like [[Ricardo Flores Magón]] were key figures in the [[Mexican Revolution]]. [[Latin America|Latin American]] anarchism was strongly influenced, extending to the [[Zapatista Army of National Liberation|Zapatista]] rebellion and the [[factory occupation movements]] in Argentina. In Berlin in 1922 the CNT was joined with the [[International Workers Association]], an anarcho-syndicalist successor to the [[First International]].\n",
      "\n",
      "Contemporary anarcho-syndicalism continues as a minor force in many socities; much smaller than in the 1910s, 20s and 30s.  \n",
      "\n",
      "The largest organised anarchist movement today is in Spain, in the form of the [[Confederación General del Trabajo]] and the [[CNT]].  The CGT claims a paid-up membership of 60,000, and received over a million votes in Spanish [[syndical]] elections.  Other active syndicalist movements include the US [[Workers Solidarity Alliance]], and the UK [[Solidarity Federation]].  The revolutionary industrial unionist [[Industrial Workers of the World]] also exists, claiming 2,000 paid members.  Contemporary critics of anarcho-syndicalism and revolutionary industrial unionism claim tha\n"
     ]
    }
   ],
   "source": [
    "print(data[22500:26000])"
   ]
  },
  {
   "cell_type": "code",
   "execution_count": 17,
   "id": "10210bc8",
   "metadata": {},
   "outputs": [],
   "source": [
    "enc = SimpleTokenizer()\n",
    "tokens = enc.encode(data, False, False)\n",
    "all_tok = np.array(tokens, dtype=np.uint16)"
   ]
  },
  {
   "cell_type": "code",
   "execution_count": 18,
   "id": "eb80ce94",
   "metadata": {},
   "outputs": [],
   "source": [
    "tokenized_filename = pathlib.Path(\"/home/rod/storage/enwik8/enwik8.bin\")\n",
    "\n",
    "with open(tokenized_filename, \"wb\") as f:\n",
    "    f.write(all_tok.tobytes())"
   ]
  },
  {
   "cell_type": "code",
   "execution_count": 19,
   "id": "1de2810b",
   "metadata": {},
   "outputs": [
    {
     "name": "stdout",
     "output_type": "stream",
     "text": [
      "[2963 2697 2802 ... 5612 1435 3369] (99621832,)\n"
     ]
    }
   ],
   "source": [
    "# Sanity check\n",
    "a = np.fromfile(tokenized_filename, dtype=np.uint16)\n",
    "print(a, a.shape)"
   ]
  },
  {
   "cell_type": "markdown",
   "id": "5cb25b7c",
   "metadata": {},
   "source": [
    "### Creating the split\n"
   ]
  },
  {
   "cell_type": "code",
   "execution_count": 21,
   "id": "97f1b4b5",
   "metadata": {},
   "outputs": [],
   "source": [
    "b=a[:256 * (a.shape[0]//256)]\n",
    "b = b.reshape((-1, 256))\n",
    "np.random.shuffle(b)"
   ]
  },
  {
   "cell_type": "code",
   "execution_count": 23,
   "id": "604eeff9",
   "metadata": {},
   "outputs": [],
   "source": [
    "t = int(0.9 * b.shape[0])\n",
    "s = int(0.05 * b.shape[0])\n",
    "start = 0\n",
    "end = t\n",
    "for split in [\"train\", \"val\", \"test\"]:\n",
    "    tokenized_filename = pathlib.Path(\"/home/rod/storage/enwik8/enwik8_\"+split+\".bin\")\n",
    "    with open(tokenized_filename, \"wb\") as f:\n",
    "        f.write(b[start:end].flatten().tobytes())\n",
    "    start = end\n",
    "    end += s"
   ]
  },
  {
   "cell_type": "code",
   "execution_count": null,
   "id": "dc97d960",
   "metadata": {},
   "outputs": [],
   "source": []
  }
 ],
 "metadata": {
  "kernelspec": {
   "display_name": "Python [conda env:llamba] *",
   "language": "python",
   "name": "conda-env-llamba-py"
  },
  "language_info": {
   "codemirror_mode": {
    "name": "ipython",
    "version": 3
   },
   "file_extension": ".py",
   "mimetype": "text/x-python",
   "name": "python",
   "nbconvert_exporter": "python",
   "pygments_lexer": "ipython3",
   "version": "3.9.0"
  }
 },
 "nbformat": 4,
 "nbformat_minor": 5
}
